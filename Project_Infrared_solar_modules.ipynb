{
 "cells": [
  {
   "cell_type": "code",
   "execution_count": 1,
   "id": "4a7f3d0b-63d5-4304-b78c-63ff70f69c79",
   "metadata": {},
   "outputs": [],
   "source": [
    "import numpy as np\n",
    "import os\n",
    "import pandas as pd\n",
    "import matplotlib.pyplot as plt\n",
    "import random\n",
    "from tensorflow.keras.preprocessing.image import load_img, img_to_array, array_to_img\n",
    "import matplotlib.pyplot as plt\n",
    "import seaborn as sns \n",
    "\n",
    "# deep learning\n",
    "import cv2 \n",
    "import keras\n",
    "import tensorflow as tf\n",
    "from keras.models import Sequential\n",
    "from tensorflow.keras.optimizers import Adam\n",
    "from keras.layers import Dense, Conv2D , MaxPooling2D , Flatten , Dropout , BatchNormalization\n",
    "from sklearn.model_selection import train_test_split\n",
    "from sklearn.preprocessing import LabelEncoder\n",
    "from sklearn.metrics import classification_report,confusion_matrix"
   ]
  },
  {
   "cell_type": "code",
   "execution_count": 2,
   "id": "a22a055b-fc1a-4e2d-a1ba-971bd6f4b72f",
   "metadata": {},
   "outputs": [],
   "source": [
    "DATA_PATH = '/Users/anjalibharti/Downloads/archive/2020-02-14_InfraredSolarModules/InfraredSolarModules'\n",
    "METADATA_PATH = os.path.join(DATA_PATH, 'module_metadata.json')"
   ]
  },
  {
   "cell_type": "code",
   "execution_count": 3,
   "id": "51210308-0ea5-41ec-95bf-75c322fff0f0",
   "metadata": {},
   "outputs": [
    {
     "data": {
      "text/html": [
       "<div>\n",
       "<style scoped>\n",
       "    .dataframe tbody tr th:only-of-type {\n",
       "        vertical-align: middle;\n",
       "    }\n",
       "\n",
       "    .dataframe tbody tr th {\n",
       "        vertical-align: top;\n",
       "    }\n",
       "\n",
       "    .dataframe thead th {\n",
       "        text-align: right;\n",
       "    }\n",
       "</style>\n",
       "<table border=\"1\" class=\"dataframe\">\n",
       "  <thead>\n",
       "    <tr style=\"text-align: right;\">\n",
       "      <th></th>\n",
       "      <th>image_filepath</th>\n",
       "      <th>anomaly_class</th>\n",
       "    </tr>\n",
       "  </thead>\n",
       "  <tbody>\n",
       "    <tr>\n",
       "      <th>0</th>\n",
       "      <td>/Users/anjalibharti/Downloads/archive/2020-02-...</td>\n",
       "      <td>Offline-Module</td>\n",
       "    </tr>\n",
       "    <tr>\n",
       "      <th>1</th>\n",
       "      <td>/Users/anjalibharti/Downloads/archive/2020-02-...</td>\n",
       "      <td>Offline-Module</td>\n",
       "    </tr>\n",
       "    <tr>\n",
       "      <th>2</th>\n",
       "      <td>/Users/anjalibharti/Downloads/archive/2020-02-...</td>\n",
       "      <td>Offline-Module</td>\n",
       "    </tr>\n",
       "    <tr>\n",
       "      <th>3</th>\n",
       "      <td>/Users/anjalibharti/Downloads/archive/2020-02-...</td>\n",
       "      <td>Offline-Module</td>\n",
       "    </tr>\n",
       "    <tr>\n",
       "      <th>4</th>\n",
       "      <td>/Users/anjalibharti/Downloads/archive/2020-02-...</td>\n",
       "      <td>Offline-Module</td>\n",
       "    </tr>\n",
       "    <tr>\n",
       "      <th>...</th>\n",
       "      <td>...</td>\n",
       "      <td>...</td>\n",
       "    </tr>\n",
       "    <tr>\n",
       "      <th>19995</th>\n",
       "      <td>/Users/anjalibharti/Downloads/archive/2020-02-...</td>\n",
       "      <td>No-Anomaly</td>\n",
       "    </tr>\n",
       "    <tr>\n",
       "      <th>19996</th>\n",
       "      <td>/Users/anjalibharti/Downloads/archive/2020-02-...</td>\n",
       "      <td>No-Anomaly</td>\n",
       "    </tr>\n",
       "    <tr>\n",
       "      <th>19997</th>\n",
       "      <td>/Users/anjalibharti/Downloads/archive/2020-02-...</td>\n",
       "      <td>No-Anomaly</td>\n",
       "    </tr>\n",
       "    <tr>\n",
       "      <th>19998</th>\n",
       "      <td>/Users/anjalibharti/Downloads/archive/2020-02-...</td>\n",
       "      <td>No-Anomaly</td>\n",
       "    </tr>\n",
       "    <tr>\n",
       "      <th>19999</th>\n",
       "      <td>/Users/anjalibharti/Downloads/archive/2020-02-...</td>\n",
       "      <td>No-Anomaly</td>\n",
       "    </tr>\n",
       "  </tbody>\n",
       "</table>\n",
       "<p>20000 rows × 2 columns</p>\n",
       "</div>"
      ],
      "text/plain": [
       "                                          image_filepath   anomaly_class\n",
       "0      /Users/anjalibharti/Downloads/archive/2020-02-...  Offline-Module\n",
       "1      /Users/anjalibharti/Downloads/archive/2020-02-...  Offline-Module\n",
       "2      /Users/anjalibharti/Downloads/archive/2020-02-...  Offline-Module\n",
       "3      /Users/anjalibharti/Downloads/archive/2020-02-...  Offline-Module\n",
       "4      /Users/anjalibharti/Downloads/archive/2020-02-...  Offline-Module\n",
       "...                                                  ...             ...\n",
       "19995  /Users/anjalibharti/Downloads/archive/2020-02-...      No-Anomaly\n",
       "19996  /Users/anjalibharti/Downloads/archive/2020-02-...      No-Anomaly\n",
       "19997  /Users/anjalibharti/Downloads/archive/2020-02-...      No-Anomaly\n",
       "19998  /Users/anjalibharti/Downloads/archive/2020-02-...      No-Anomaly\n",
       "19999  /Users/anjalibharti/Downloads/archive/2020-02-...      No-Anomaly\n",
       "\n",
       "[20000 rows x 2 columns]"
      ]
     },
     "execution_count": 3,
     "metadata": {},
     "output_type": "execute_result"
    }
   ],
   "source": [
    "df = pd.read_json(METADATA_PATH, orient='index').sort_index()\n",
    "df['image_filepath'] = df.image_filepath.apply(lambda x: os.path.join(DATA_PATH, x))\n",
    "df"
   ]
  },
  {
   "cell_type": "code",
   "execution_count": 4,
   "id": "9c1c1eaa-f3c9-48cf-baad-9d538a7fc43c",
   "metadata": {},
   "outputs": [
    {
     "data": {
      "image/png": "[encoded data removed]",
      "text/plain": [
       "<Figure size 2000x2000 with 12 Axes>"
      ]
     },
     "metadata": {},
     "output_type": "display_data"
    }
   ],
   "source": [
    "# Get unique anomaly classes\n",
    "unique_classes = df['anomaly_class'].unique()\n",
    "\n",
    "# Plot the sampled images\n",
    "plt.figure(figsize=(20, 20))\n",
    "\n",
    "for i, class_name in enumerate(unique_classes, start=1):\n",
    "    # Sample one image for each class\n",
    "    sample = df[df['anomaly_class'] == class_name].sample(n=1).iloc[0]\n",
    "    \n",
    "    image = cv2.imread(sample['image_filepath'], 0)\n",
    "    plt.subplot(6, 6, i)\n",
    "    plt.imshow(image, cmap='inferno')\n",
    "    plt.title(class_name)\n",
    "    plt.axis('off')\n",
    "\n",
    "plt.show()"
   ]
  },
  {
   "cell_type": "code",
   "execution_count": 5,
   "id": "8749ab44-3523-4c26-8db9-988343171585",
   "metadata": {},
   "outputs": [
    {
     "data": {
      "text/plain": [
       "anomaly_class\n",
       "Cell              1877\n",
       "Vegetation        1639\n",
       "Diode             1499\n",
       "Cell-Multi        1288\n",
       "Shadowing         1056\n",
       "Cracking           940\n",
       "Offline-Module     827\n",
       "Hot-Spot           249\n",
       "Hot-Spot-Multi     246\n",
       "Soiling            204\n",
       "Diode-Multi        175\n",
       "Name: count, dtype: int64"
      ]
     },
     "execution_count": 5,
     "metadata": {},
     "output_type": "execute_result"
    }
   ],
   "source": [
    "anomaly_df = df[df['anomaly_class'] != 'No-Anomaly']\n",
    "anomaly_df.anomaly_class.value_counts()"
   ]
  },
  {
   "cell_type": "code",
   "execution_count": 6,
   "id": "ac818dda-97c9-407a-804f-e15136a3b058",
   "metadata": {
    "scrolled": true
   },
   "outputs": [],
   "source": [
    "# Function to load and preprocess images\n",
    "def load_and_preprocess_image(filepath):\n",
    "    img = load_img(filepath, color_mode='grayscale', target_size=(40, 24))  # Adjust target size if necessary\n",
    "    img_array = img_to_array(img)\n",
    "    img_array = img_array / 255.0  # Normalize the image to [0, 1]\n",
    "    return img_array\n",
    "\n",
    "# Define the augmentation layers\n",
    "flip_layer = tf.keras.layers.RandomFlip('vertical')\n",
    "resizing_layer = tf.keras.layers.Resizing(height=40, width=24)\n",
    "rotation_layer = tf.keras.layers.RandomRotation(factor=0.3)\n",
    "\n",
    "# def random_crop(image, fraction):\n",
    "#     # Get the original image dimensions\n",
    "#     original_shape = tf.shape(image)\n",
    "#     height = original_shape[0]\n",
    "#     width = original_shape[1]\n",
    "    \n",
    "#     # Calculate the new crop size\n",
    "#     new_height = tf.cast(height * fraction, tf.int32)\n",
    "#     new_width = tf.cast(width * fraction, tf.int32)\n",
    "    \n",
    "#     # Randomly crop the image\n",
    "#     cropped_image = tf.image.random_crop(image, size=[new_height, new_width, original_shape[2]])\n",
    "#     return cropped_image\n",
    "    \n",
    "# Function to apply augmentation\n",
    "def apply_augmentation(img, label, output_dir, base_filename, img_count):\n",
    "    augmented_imgs = []\n",
    "    # Apply a series of augmentations and save them\n",
    "    img_list = [\n",
    "        (img, label),\n",
    "        (flip_layer(img), label),\n",
    "        (tf.image.flip_left_right(img), label),  # Additional horizontal flip\n",
    "        (tf.image.adjust_brightness(img, delta=0.1), label),  # Adjust brightness\n",
    "        # (tf.image.central_crop(img, central_fraction=0.8), label),  # Central crop\n",
    "        (tf.image.adjust_contrast(img, contrast_factor=1.5), label),\n",
    "        (resizing_layer(img), label),\n",
    "        (rotation_layer(img), label),\n",
    "        # (random_crop(img, fraction=1), label)\n",
    "    ]\n",
    "    for i, (aug_img, lbl) in enumerate(img_list):\n",
    "        img_count += 1\n",
    "        filename = f\"{base_filename}_aug_{img_count}.jpg\"\n",
    "        filepath = os.path.join(output_dir, filename)\n",
    "        aug_img_pil = array_to_img(aug_img)\n",
    "        aug_img_pil.save(filepath)\n",
    "        augmented_imgs.append((filepath, lbl))\n",
    "    return augmented_imgs, img_count"
   ]
  },
  {
   "cell_type": "code",
   "execution_count": 7,
   "id": "734a32be-685e-4d23-afed-58ed928e5fe0",
   "metadata": {},
   "outputs": [
    {
     "name": "stdout",
     "output_type": "stream",
     "text": [
      "                                      image_filepath   anomaly_class\n",
      "0  /Users/anjalibharti/Downloads/infrared_fold/0_...  Offline-Module\n",
      "1  /Users/anjalibharti/Downloads/infrared_fold/0_...  Offline-Module\n",
      "2  /Users/anjalibharti/Downloads/infrared_fold/0_...  Offline-Module\n",
      "3  /Users/anjalibharti/Downloads/infrared_fold/0_...  Offline-Module\n",
      "4  /Users/anjalibharti/Downloads/infrared_fold/0_...  Offline-Module\n"
     ]
    }
   ],
   "source": [
    "# Directory where the augmented images will be saved\n",
    "output_dir = '/Users/anjalibharti/Downloads/infrared_fold'  # Replace with your desired directory\n",
    "os.makedirs(output_dir, exist_ok=True)\n",
    "\n",
    "# Load and augment images\n",
    "augmented_images = []\n",
    "img_count = 0\n",
    "\n",
    "for idx, row in anomaly_df.iterrows():\n",
    "    img_path = row['image_filepath']\n",
    "    label = row['anomaly_class']\n",
    "    img_array = load_and_preprocess_image(img_path)\n",
    "    base_filename = os.path.splitext(os.path.basename(img_path))[0]\n",
    "    augmented_img, img_count = apply_augmentation(img_array, label, output_dir, base_filename, img_count)\n",
    "    augmented_images.extend(augmented_img)\n",
    "\n",
    "# Create a DataFrame\n",
    "augmented_df = pd.DataFrame(augmented_images, columns=['image_filepath', 'anomaly_class'])\n",
    "\n",
    "# Display the DataFrame\n",
    "print(augmented_df.head())"
   ]
  },
  {
   "cell_type": "code",
   "execution_count": 8,
   "id": "bbb74dd2-f795-467d-8178-f0181ea7c47b",
   "metadata": {
    "scrolled": true
   },
   "outputs": [
    {
     "data": {
      "image/png": "[encoded data removed]",
      "text/plain": [
       "<Figure size 640x480 with 1 Axes>"
      ]
     },
     "metadata": {},
     "output_type": "display_data"
    },
    {
     "data": {
      "image/png": "[encoded data removed]",
      "text/plain": [
       "<Figure size 640x480 with 1 Axes>"
      ]
     },
     "metadata": {},
     "output_type": "display_data"
    },
    {
     "data": {
      "image/png": "[encoded data removed]",
      "text/plain": [
       "<Figure size 640x480 with 1 Axes>"
      ]
     },
     "metadata": {},
     "output_type": "display_data"
    },
    {
     "data": {
      "image/png": "[encoded data removed]",
      "text/plain": [
       "<Figure size 640x480 with 1 Axes>"
      ]
     },
     "metadata": {},
     "output_type": "display_data"
    },
    {
     "data": {
      "image/png": "[encoded data removed]",
      "text/plain": [
       "<Figure size 640x480 with 1 Axes>"
      ]
     },
     "metadata": {},
     "output_type": "display_data"
    }
   ],
   "source": [
    "# Display the first few augmented images to verify\n",
    "for img_path, lbl in augmented_images[:5]:\n",
    "    img = load_img(img_path, color_mode='grayscale')\n",
    "    plt.imshow(img, cmap='gray')\n",
    "    plt.title(lbl)\n",
    "    plt.axis('off')\n",
    "    plt.show()"
   ]
  },
  {
   "cell_type": "code",
   "execution_count": 9,
   "id": "bdfda0ef-ba81-423f-900e-159672ff39f9",
   "metadata": {},
   "outputs": [
    {
     "data": {
      "text/plain": [
       "(70000, 2)"
      ]
     },
     "execution_count": 9,
     "metadata": {},
     "output_type": "execute_result"
    }
   ],
   "source": [
    "augmented_df.shape"
   ]
  },
  {
   "cell_type": "code",
   "execution_count": 10,
   "id": "08c7172e-0091-4eb0-849a-519460368cbd",
   "metadata": {},
   "outputs": [],
   "source": [
    "no_anomaly_df = df[df['anomaly_class'] == 'No-Anomaly']\n",
    "# sam_no_anomaly_df = no_anomaly_df.sample(n=1000, random_state=42)"
   ]
  },
  {
   "cell_type": "code",
   "execution_count": 11,
   "id": "1a1a085d-7dcf-4c61-9212-6ab29be2e022",
   "metadata": {
    "scrolled": true
   },
   "outputs": [],
   "source": [
    "new_index = pd.RangeIndex(start= 70000, stop= 80000, step=1)\n",
    "\n",
    "# Set the new index to the DataFrame\n",
    "# sam_no_anomaly_df.index = new_index\n",
    "no_anomaly_df.index = new_index"
   ]
  },
  {
   "cell_type": "code",
   "execution_count": 12,
   "id": "a24bf2c8-074a-4b51-bb4e-9e031df9f57c",
   "metadata": {},
   "outputs": [
    {
     "data": {
      "text/html": [
       "<div>\n",
       "<style scoped>\n",
       "    .dataframe tbody tr th:only-of-type {\n",
       "        vertical-align: middle;\n",
       "    }\n",
       "\n",
       "    .dataframe tbody tr th {\n",
       "        vertical-align: top;\n",
       "    }\n",
       "\n",
       "    .dataframe thead th {\n",
       "        text-align: right;\n",
       "    }\n",
       "</style>\n",
       "<table border=\"1\" class=\"dataframe\">\n",
       "  <thead>\n",
       "    <tr style=\"text-align: right;\">\n",
       "      <th></th>\n",
       "      <th>image_filepath</th>\n",
       "      <th>anomaly_class</th>\n",
       "    </tr>\n",
       "  </thead>\n",
       "  <tbody>\n",
       "    <tr>\n",
       "      <th>79995</th>\n",
       "      <td>/Users/anjalibharti/Downloads/archive/2020-02-...</td>\n",
       "      <td>No-Anomaly</td>\n",
       "    </tr>\n",
       "    <tr>\n",
       "      <th>79996</th>\n",
       "      <td>/Users/anjalibharti/Downloads/archive/2020-02-...</td>\n",
       "      <td>No-Anomaly</td>\n",
       "    </tr>\n",
       "    <tr>\n",
       "      <th>79997</th>\n",
       "      <td>/Users/anjalibharti/Downloads/archive/2020-02-...</td>\n",
       "      <td>No-Anomaly</td>\n",
       "    </tr>\n",
       "    <tr>\n",
       "      <th>79998</th>\n",
       "      <td>/Users/anjalibharti/Downloads/archive/2020-02-...</td>\n",
       "      <td>No-Anomaly</td>\n",
       "    </tr>\n",
       "    <tr>\n",
       "      <th>79999</th>\n",
       "      <td>/Users/anjalibharti/Downloads/archive/2020-02-...</td>\n",
       "      <td>No-Anomaly</td>\n",
       "    </tr>\n",
       "  </tbody>\n",
       "</table>\n",
       "</div>"
      ],
      "text/plain": [
       "                                          image_filepath anomaly_class\n",
       "79995  /Users/anjalibharti/Downloads/archive/2020-02-...    No-Anomaly\n",
       "79996  /Users/anjalibharti/Downloads/archive/2020-02-...    No-Anomaly\n",
       "79997  /Users/anjalibharti/Downloads/archive/2020-02-...    No-Anomaly\n",
       "79998  /Users/anjalibharti/Downloads/archive/2020-02-...    No-Anomaly\n",
       "79999  /Users/anjalibharti/Downloads/archive/2020-02-...    No-Anomaly"
      ]
     },
     "execution_count": 12,
     "metadata": {},
     "output_type": "execute_result"
    }
   ],
   "source": [
    "no_anomaly_df.tail()"
   ]
  },
  {
   "cell_type": "code",
   "execution_count": 37,
   "id": "50733018-655d-4de1-92e1-db409657f6b7",
   "metadata": {},
   "outputs": [
    {
     "data": {
      "text/html": [
       "<div>\n",
       "<style scoped>\n",
       "    .dataframe tbody tr th:only-of-type {\n",
       "        vertical-align: middle;\n",
       "    }\n",
       "\n",
       "    .dataframe tbody tr th {\n",
       "        vertical-align: top;\n",
       "    }\n",
       "\n",
       "    .dataframe thead th {\n",
       "        text-align: right;\n",
       "    }\n",
       "</style>\n",
       "<table border=\"1\" class=\"dataframe\">\n",
       "  <thead>\n",
       "    <tr style=\"text-align: right;\">\n",
       "      <th></th>\n",
       "      <th>image_filepath</th>\n",
       "      <th>anomaly_class</th>\n",
       "    </tr>\n",
       "  </thead>\n",
       "  <tbody>\n",
       "    <tr>\n",
       "      <th>0</th>\n",
       "      <td>/Users/anjalibharti/Downloads/infrared_fold/0_...</td>\n",
       "      <td>Offline-Module</td>\n",
       "    </tr>\n",
       "    <tr>\n",
       "      <th>1</th>\n",
       "      <td>/Users/anjalibharti/Downloads/infrared_fold/0_...</td>\n",
       "      <td>Offline-Module</td>\n",
       "    </tr>\n",
       "    <tr>\n",
       "      <th>2</th>\n",
       "      <td>/Users/anjalibharti/Downloads/infrared_fold/0_...</td>\n",
       "      <td>Offline-Module</td>\n",
       "    </tr>\n",
       "    <tr>\n",
       "      <th>3</th>\n",
       "      <td>/Users/anjalibharti/Downloads/infrared_fold/0_...</td>\n",
       "      <td>Offline-Module</td>\n",
       "    </tr>\n",
       "    <tr>\n",
       "      <th>4</th>\n",
       "      <td>/Users/anjalibharti/Downloads/infrared_fold/0_...</td>\n",
       "      <td>Offline-Module</td>\n",
       "    </tr>\n",
       "  </tbody>\n",
       "</table>\n",
       "</div>"
      ],
      "text/plain": [
       "                                      image_filepath   anomaly_class\n",
       "0  /Users/anjalibharti/Downloads/infrared_fold/0_...  Offline-Module\n",
       "1  /Users/anjalibharti/Downloads/infrared_fold/0_...  Offline-Module\n",
       "2  /Users/anjalibharti/Downloads/infrared_fold/0_...  Offline-Module\n",
       "3  /Users/anjalibharti/Downloads/infrared_fold/0_...  Offline-Module\n",
       "4  /Users/anjalibharti/Downloads/infrared_fold/0_...  Offline-Module"
      ]
     },
     "execution_count": 37,
     "metadata": {},
     "output_type": "execute_result"
    }
   ],
   "source": [
    "df_c = pd.concat([ augmented_df, no_anomaly_df], axis = 0)\n",
    "df_c.head()"
   ]
  },
  {
   "cell_type": "code",
   "execution_count": 38,
   "id": "b306a746-538b-42f4-876f-fc61d2382f4b",
   "metadata": {
    "scrolled": true
   },
   "outputs": [
    {
     "name": "stdout",
     "output_type": "stream",
     "text": [
      "[[[169 169 169]\n",
      "  [164 164 164]\n",
      "  [171 171 171]\n",
      "  ...\n",
      "  [219 219 219]\n",
      "  [212 212 212]\n",
      "  [207 207 207]]\n",
      "\n",
      " [[164 164 164]\n",
      "  [159 159 159]\n",
      "  [168 168 168]\n",
      "  ...\n",
      "  [206 206 206]\n",
      "  [197 197 197]\n",
      "  [193 193 193]]\n",
      "\n",
      " [[158 158 158]\n",
      "  [153 153 153]\n",
      "  [164 164 164]\n",
      "  ...\n",
      "  [197 197 197]\n",
      "  [187 187 187]\n",
      "  [181 181 181]]\n",
      "\n",
      " ...\n",
      "\n",
      " [[ 46  46  46]\n",
      "  [ 63  63  63]\n",
      "  [ 85  85  85]\n",
      "  ...\n",
      "  [ 69  69  69]\n",
      "  [ 65  65  65]\n",
      "  [ 54  54  54]]\n",
      "\n",
      " [[ 45  45  45]\n",
      "  [ 61  61  61]\n",
      "  [ 81  81  81]\n",
      "  ...\n",
      "  [ 63  63  63]\n",
      "  [ 59  59  59]\n",
      "  [ 45  45  45]]\n",
      "\n",
      " [[ 35  35  35]\n",
      "  [ 50  50  50]\n",
      "  [ 70  70  70]\n",
      "  ...\n",
      "  [ 60  60  60]\n",
      "  [ 53  53  53]\n",
      "  [ 36  36  36]]]\n"
     ]
    }
   ],
   "source": [
    "im = cv2.imread(df_c['image_filepath'][0])\n",
    "im = np.array(im)\n",
    "print(im)"
   ]
  },
  {
   "cell_type": "code",
   "execution_count": 39,
   "id": "daeb920d-30b0-4b62-87b3-62e9905b2914",
   "metadata": {},
   "outputs": [],
   "source": [
    "unique_values = df_c.anomaly_class.value_counts()"
   ]
  },
  {
   "cell_type": "code",
   "execution_count": 40,
   "id": "2a5335bc-2b6e-429f-8aa8-756f27b2a02f",
   "metadata": {},
   "outputs": [
    {
     "data": {
      "text/plain": [
       "anomaly_class\n",
       "Cell              13139\n",
       "Vegetation        11473\n",
       "Diode             10493\n",
       "No-Anomaly        10000\n",
       "Cell-Multi         9016\n",
       "Shadowing          7392\n",
       "Cracking           6580\n",
       "Offline-Module     5789\n",
       "Hot-Spot           1743\n",
       "Hot-Spot-Multi     1722\n",
       "Soiling            1428\n",
       "Diode-Multi        1225\n",
       "Name: count, dtype: int64"
      ]
     },
     "execution_count": 40,
     "metadata": {},
     "output_type": "execute_result"
    }
   ],
   "source": [
    "df_c.anomaly_class.value_counts()"
   ]
  },
  {
   "cell_type": "code",
   "execution_count": 41,
   "id": "ede3e7a4-01a3-400c-aeab-26b3ecc4222c",
   "metadata": {},
   "outputs": [
    {
     "data": {
      "text/plain": [
       "anomaly_class\n",
       "Cell              16.42375\n",
       "Vegetation        14.34125\n",
       "Diode             13.11625\n",
       "No-Anomaly        12.50000\n",
       "Cell-Multi        11.27000\n",
       "Shadowing          9.24000\n",
       "Cracking           8.22500\n",
       "Offline-Module     7.23625\n",
       "Hot-Spot           2.17875\n",
       "Hot-Spot-Multi     2.15250\n",
       "Soiling            1.78500\n",
       "Diode-Multi        1.53125\n",
       "Name: count, dtype: float64"
      ]
     },
     "execution_count": 41,
     "metadata": {},
     "output_type": "execute_result"
    }
   ],
   "source": [
    "df_c.anomaly_class.value_counts()*100/len(df_c)"
   ]
  },
  {
   "cell_type": "code",
   "execution_count": 42,
   "id": "1f2b523f-b585-434a-a5fb-7f25f29ca60b",
   "metadata": {},
   "outputs": [
    {
     "data": {
      "image/png": "[encoded data removed]",
      "text/plain": [
       "<Figure size 1500x600 with 1 Axes>"
      ]
     },
     "metadata": {},
     "output_type": "display_data"
    }
   ],
   "source": [
    "# Set the figure size\n",
    "plt.figure(figsize=(15, 6))\n",
    "\n",
    "# Plot the bar chart\n",
    "plt.bar(unique_values.index, unique_values.values)\n",
    "\n",
    "# Set labels and title\n",
    "\n",
    "plt.xlabel('Unique Values')\n",
    "plt.ylabel('Frequency')\n",
    "plt.title('Frequency of Unique Values in Column')\n",
    "\n",
    "# Show the plot\n",
    "plt.show()"
   ]
  },
  {
   "cell_type": "code",
   "execution_count": 43,
   "id": "8291f43c-d721-4118-8762-f6238e7b37b3",
   "metadata": {},
   "outputs": [
    {
     "data": {
      "text/html": [
       "<div>\n",
       "<style scoped>\n",
       "    .dataframe tbody tr th:only-of-type {\n",
       "        vertical-align: middle;\n",
       "    }\n",
       "\n",
       "    .dataframe tbody tr th {\n",
       "        vertical-align: top;\n",
       "    }\n",
       "\n",
       "    .dataframe thead th {\n",
       "        text-align: right;\n",
       "    }\n",
       "</style>\n",
       "<table border=\"1\" class=\"dataframe\">\n",
       "  <thead>\n",
       "    <tr style=\"text-align: right;\">\n",
       "      <th></th>\n",
       "      <th>image_filepath</th>\n",
       "      <th>anomaly_class</th>\n",
       "    </tr>\n",
       "  </thead>\n",
       "  <tbody>\n",
       "    <tr>\n",
       "      <th>0</th>\n",
       "      <td>/Users/anjalibharti/Downloads/infrared_fold/0_...</td>\n",
       "      <td>Offline-Module</td>\n",
       "    </tr>\n",
       "    <tr>\n",
       "      <th>1</th>\n",
       "      <td>/Users/anjalibharti/Downloads/infrared_fold/0_...</td>\n",
       "      <td>Offline-Module</td>\n",
       "    </tr>\n",
       "    <tr>\n",
       "      <th>2</th>\n",
       "      <td>/Users/anjalibharti/Downloads/infrared_fold/0_...</td>\n",
       "      <td>Offline-Module</td>\n",
       "    </tr>\n",
       "    <tr>\n",
       "      <th>3</th>\n",
       "      <td>/Users/anjalibharti/Downloads/infrared_fold/0_...</td>\n",
       "      <td>Offline-Module</td>\n",
       "    </tr>\n",
       "    <tr>\n",
       "      <th>4</th>\n",
       "      <td>/Users/anjalibharti/Downloads/infrared_fold/0_...</td>\n",
       "      <td>Offline-Module</td>\n",
       "    </tr>\n",
       "    <tr>\n",
       "      <th>...</th>\n",
       "      <td>...</td>\n",
       "      <td>...</td>\n",
       "    </tr>\n",
       "    <tr>\n",
       "      <th>79995</th>\n",
       "      <td>/Users/anjalibharti/Downloads/archive/2020-02-...</td>\n",
       "      <td>No-Anomaly</td>\n",
       "    </tr>\n",
       "    <tr>\n",
       "      <th>79996</th>\n",
       "      <td>/Users/anjalibharti/Downloads/archive/2020-02-...</td>\n",
       "      <td>No-Anomaly</td>\n",
       "    </tr>\n",
       "    <tr>\n",
       "      <th>79997</th>\n",
       "      <td>/Users/anjalibharti/Downloads/archive/2020-02-...</td>\n",
       "      <td>No-Anomaly</td>\n",
       "    </tr>\n",
       "    <tr>\n",
       "      <th>79998</th>\n",
       "      <td>/Users/anjalibharti/Downloads/archive/2020-02-...</td>\n",
       "      <td>No-Anomaly</td>\n",
       "    </tr>\n",
       "    <tr>\n",
       "      <th>79999</th>\n",
       "      <td>/Users/anjalibharti/Downloads/archive/2020-02-...</td>\n",
       "      <td>No-Anomaly</td>\n",
       "    </tr>\n",
       "  </tbody>\n",
       "</table>\n",
       "<p>76535 rows × 2 columns</p>\n",
       "</div>"
      ],
      "text/plain": [
       "                                          image_filepath   anomaly_class\n",
       "0      /Users/anjalibharti/Downloads/infrared_fold/0_...  Offline-Module\n",
       "1      /Users/anjalibharti/Downloads/infrared_fold/0_...  Offline-Module\n",
       "2      /Users/anjalibharti/Downloads/infrared_fold/0_...  Offline-Module\n",
       "3      /Users/anjalibharti/Downloads/infrared_fold/0_...  Offline-Module\n",
       "4      /Users/anjalibharti/Downloads/infrared_fold/0_...  Offline-Module\n",
       "...                                                  ...             ...\n",
       "79995  /Users/anjalibharti/Downloads/archive/2020-02-...      No-Anomaly\n",
       "79996  /Users/anjalibharti/Downloads/archive/2020-02-...      No-Anomaly\n",
       "79997  /Users/anjalibharti/Downloads/archive/2020-02-...      No-Anomaly\n",
       "79998  /Users/anjalibharti/Downloads/archive/2020-02-...      No-Anomaly\n",
       "79999  /Users/anjalibharti/Downloads/archive/2020-02-...      No-Anomaly\n",
       "\n",
       "[76535 rows x 2 columns]"
      ]
     },
     "execution_count": 43,
     "metadata": {},
     "output_type": "execute_result"
    }
   ],
   "source": [
    "df_c = df_c.query('anomaly_class != (\"Hot-Spot\", \"Hot-Spot-Multi\")')\n",
    "# df_c = df_c.query('anomaly_class != (\"Soiling\", \"Diode-Multi\")')\n",
    "df_c"
   ]
  },
  {
   "cell_type": "code",
   "execution_count": 44,
   "id": "bf04968d-3061-4f3f-9381-666bc7d52f55",
   "metadata": {},
   "outputs": [
    {
     "data": {
      "text/plain": [
       "anomaly_class\n",
       "Cell              13139\n",
       "Vegetation        11473\n",
       "Diode             10493\n",
       "No-Anomaly        10000\n",
       "Cell-Multi         9016\n",
       "Shadowing          7392\n",
       "Cracking           6580\n",
       "Offline-Module     5789\n",
       "Soiling            1428\n",
       "Diode-Multi        1225\n",
       "Name: count, dtype: int64"
      ]
     },
     "execution_count": 44,
     "metadata": {},
     "output_type": "execute_result"
    }
   ],
   "source": [
    "df_c.anomaly_class.value_counts()"
   ]
  },
  {
   "cell_type": "code",
   "execution_count": 45,
   "id": "e5ccad25-4656-4b08-908e-3ad0656d469d",
   "metadata": {},
   "outputs": [],
   "source": [
    "def load_and_preprocess_image(image_path, target_size=(40, 24)):\n",
    "    try:\n",
    "        image = cv2.imread(image_path, cv2.IMREAD_GRAYSCALE)  # Load image in grayscale\n",
    "        if image is None:\n",
    "            raise ValueError(f\"Image not found or cannot be loaded: {image_path}\")\n",
    "        image = cv2.resize(image, target_size)  # Resize image\n",
    "        image = np.expand_dims(image, axis=-1)  # Add channel dimension\n",
    "        image = image / 255.0  # Normalize to [0, 1]\n",
    "        return image\n",
    "    except Exception as e:\n",
    "        print(f\"Error processing image {image_path}: {str(e)}\")\n",
    "        return None\n",
    "\n",
    "train = []\n",
    "labels = []\n",
    "\n",
    "for idx, row in df_c.iterrows():\n",
    "    image_filepath = row['image_filepath']\n",
    "    label = row['anomaly_class']\n",
    "    processed_image = load_and_preprocess_image(image_filepath)\n",
    "    if processed_image is not None:  # Only add if processing was successful\n",
    "        train.append(processed_image)\n",
    "        labels.append(label)"
   ]
  },
  {
   "cell_type": "code",
   "execution_count": 46,
   "id": "43054e71-3423-454b-b362-f0c3a9b61966",
   "metadata": {},
   "outputs": [
    {
     "data": {
      "text/plain": [
       "76535"
      ]
     },
     "execution_count": 46,
     "metadata": {},
     "output_type": "execute_result"
    }
   ],
   "source": [
    "len(train)"
   ]
  },
  {
   "cell_type": "code",
   "execution_count": 47,
   "id": "8535c18f-3c2e-4191-a745-2960c069158d",
   "metadata": {},
   "outputs": [
    {
     "name": "stdout",
     "output_type": "stream",
     "text": [
      "Train shape: (76535, 24, 40, 1)\n",
      "Labels shape: (76535,)\n"
     ]
    }
   ],
   "source": [
    "train = np.array(train)\n",
    "labels = np.array(labels)\n",
    "print(f'Train shape: {train.shape}')\n",
    "print(f'Labels shape: {labels.shape}')"
   ]
  },
  {
   "cell_type": "code",
   "execution_count": 48,
   "id": "09f2aeb7-c50d-4559-94cd-09a099c7948d",
   "metadata": {},
   "outputs": [],
   "source": [
    "le = LabelEncoder()\n",
    "labels = le.fit_transform(labels)"
   ]
  },
  {
   "cell_type": "code",
   "execution_count": 49,
   "id": "4434ec5c-e74a-484a-836f-ae377256457a",
   "metadata": {},
   "outputs": [
    {
     "data": {
      "text/plain": [
       "array([6, 6, 6, ..., 5, 5, 5])"
      ]
     },
     "execution_count": 49,
     "metadata": {},
     "output_type": "execute_result"
    }
   ],
   "source": [
    "labels"
   ]
  },
  {
   "cell_type": "code",
   "execution_count": 50,
   "id": "d8cccd65-da0e-404a-a4a1-33b2c9cf6b8d",
   "metadata": {},
   "outputs": [],
   "source": [
    "X_train, X_temp, y_train, y_temp = train_test_split(train, labels, test_size=0.4, random_state= 3, stratify=labels)\n",
    "\n",
    "# Second split: val and test from temp\n",
    "X_val, X_test, y_val, y_test = train_test_split(X_temp, y_temp, test_size=0.5, random_state= 3, stratify=y_temp)"
   ]
  },
  {
   "cell_type": "code",
   "execution_count": 51,
   "id": "e0b56fc5-28e9-4cad-b0f3-2627baa03397",
   "metadata": {
    "jupyter": {
     "source_hidden": true
    }
   },
   "outputs": [],
   "source": [
    "# import pandas as pd\n",
    "# import numpy as np\n",
    "# import matplotlib.pyplot as plt\n",
    "# import os\n",
    "# import tensorflow as tf\n",
    "# from tensorflow.keras.preprocessing.image import load_img, img_to_array\n",
    "# from tensorflow.keras.layers import Resizing, Rescaling, RandomFlip, RandomRotation\n",
    "\n",
    "# # Filter the DataFrame for labels other than 'No-Anomaly'\n",
    "# anomaly_df = df[df['anomaly_class'] != 'No-Anomaly']\n",
    "\n",
    "# # Function to load and preprocess images\n",
    "# def load_and_preprocess_image(filepath):\n",
    "#     img = load_img(filepath, color_mode='grayscale', target_size=(40, 24))  # Adjust target size if necessary\n",
    "#     img_array = img_to_array(img)\n",
    "#     img_array = img_array / 255.0  # Normalize the image to [0, 1]\n",
    "#     return img_array\n",
    "\n",
    "# # Define augmentation layers\n",
    "# resizing_layer = Resizing(height=40, width=24)\n",
    "# flip_layer = RandomFlip(mode=\"horizontal_and_vertical\")\n",
    "# rotation_layer = RandomRotation(factor=0.3)\n",
    "\n",
    "# # Function to apply augmentation\n",
    "# def apply_augmentation(img):\n",
    "#     augmented_imgs = []\n",
    "#     augmented_imgs.append(flip_layer(img))\n",
    "#     augmented_imgs.append(tf.image.flip_left_right(img))  # Additional horizontal flip\n",
    "#     augmented_imgs.append(tf.image.adjust_brightness(img, delta=0.1))  # Adjust brightness\n",
    "#     augmented_imgs.append(tf.image.central_crop(img, central_fraction=0.8))  # Central crop\n",
    "#     augmented_imgs.append(resizing_layer(img))\n",
    "#     augmented_imgs.append(rotation_layer(img))\n",
    "#     return augmented_imgs\n",
    "\n",
    "# # Number of augmented images to generate per original image\n",
    "# num_augmented_images = 5\n",
    "\n",
    "# # Load and augment images\n",
    "# augmented_images = []\n",
    "\n",
    "# for idx, row in anomaly_df.iterrows():\n",
    "#     img_path = row['image_filepath']\n",
    "#     img_array = load_and_preprocess_image(img_path)\n",
    "#     augmented_img_list = apply_augmentation(img_array)\n",
    "#     for augmented_img in augmented_img_list:\n",
    "#         augmented_images.append(augmented_img.numpy())\n",
    "\n",
    "# # Convert to numpy array for easier handling\n",
    "# augmented_images = np.array(augmented_images)\n",
    "\n",
    "# # Display some augmented images\n",
    "# def plot_images(images, num_images=25):\n",
    "#     plt.figure(figsize=(10, 10))\n",
    "#     for i in range(num_images):\n",
    "#         plt.subplot(5, 5, i + 1)  # Create a 5x5 grid of subplots\n",
    "#         plt.imshow(images[i].squeeze(), cmap='gray')  # Display the image in grayscale\n",
    "#         plt.axis('off')\n",
    "#     plt.show()\n",
    "\n",
    "# # Plot 25 augmented images\n",
    "# plot_images(augmented_images, num_images=25)\n",
    "\n",
    "# # Check the length of augmented images\n",
    "# print(f\"Total number of augmented images: {len(augmented_images)}\")\n"
   ]
  },
  {
   "cell_type": "code",
   "execution_count": 52,
   "id": "5ffee70b-30f7-406a-86bb-baea11159e47",
   "metadata": {},
   "outputs": [
    {
     "data": {
      "text/plain": [
       "(45921, 24, 40, 1)"
      ]
     },
     "execution_count": 52,
     "metadata": {},
     "output_type": "execute_result"
    }
   ],
   "source": [
    "X_train.shape"
   ]
  },
  {
   "cell_type": "code",
   "execution_count": 53,
   "id": "25312614-35ce-4a92-a815-0e512cf187f8",
   "metadata": {},
   "outputs": [
    {
     "name": "stderr",
     "output_type": "stream",
     "text": [
      "/Library/Frameworks/Python.framework/Versions/3.12/lib/python3.12/site-packages/keras/src/layers/convolutional/base_conv.py:107: UserWarning: Do not pass an `input_shape`/`input_dim` argument to a layer. When using Sequential models, prefer using an `Input(shape)` object as the first layer in the model instead.\n",
      "  super().__init__(activity_regularizer=activity_regularizer, **kwargs)\n"
     ]
    }
   ],
   "source": [
    "model = Sequential()\n",
    "    # First Conv2D layer with 32 filters and MaxPooling2D\n",
    "model.add(Conv2D(32, (3, 3),strides = 1 , padding = 'same', activation='relu', input_shape= (40, 24, 1) ))\n",
    "model.add(BatchNormalization())\n",
    "model.add(MaxPooling2D((2, 2), strides = 2 , padding = 'same'))\n",
    "    \n",
    "    \n",
    "#     # Second Conv2D layer with 64 filters and MaxPooling2D\n",
    "model.add(Conv2D(64, (3, 3), padding = 'same',strides = 1, activation='relu'))\n",
    "model.add(BatchNormalization())\n",
    "model.add(MaxPooling2D((2, 2),strides = 2 , padding = 'same'))\n",
    "\n",
    "model.add(Conv2D(64, (3, 3), padding = 'same',strides = 1, activation='relu'))\n",
    "model.add(BatchNormalization())\n",
    "model.add(MaxPooling2D((2, 2),strides = 2 , padding = 'same'))\n",
    "\n",
    "    # Flatten the output\n",
    "model.add(Flatten())\n",
    "\n",
    "    # First Dense layer with 128 neurons\n",
    "model.add(Dense(128, activation='relu')) #,kernel_regularizer=regularizers.l2(0.01)\n",
    "model.add(Dropout(0.5))\n",
    "    # Second Dense layer with 64 neurons\n",
    "model.add(Dense(64, activation='relu'))\n",
    "model.add(Dropout(0.5))\n",
    "    # Output layer with `num_classes` neurons\n",
    "model.add(Dense(10, activation='softmax'))\n",
    "    \n",
    "adam = Adam(learning_rate=0.001)\n",
    "    # Compile the model\n",
    "model.compile(optimizer= adam,\n",
    "                loss='sparse_categorical_crossentropy',\n",
    "                metrics=['accuracy'])"
   ]
  },
  {
   "cell_type": "code",
   "execution_count": 54,
   "id": "d178b2c9-0163-4821-b566-88e7c35a4e47",
   "metadata": {},
   "outputs": [
    {
     "data": {
      "text/html": [
       "<pre style=\"white-space:pre;overflow-x:auto;line-height:normal;font-family:Menlo,'DejaVu Sans Mono',consolas,'Courier New',monospace\"><span style=\"font-weight: bold\">Model: \"sequential_1\"</span>\n",
       "</pre>\n"
      ],
      "text/plain": [
       "\u001b[1mModel: \"sequential_1\"\u001b[0m\n"
      ]
     },
     "metadata": {},
     "output_type": "display_data"
    },
    {
     "data": {
      "text/html": [
       "<pre style=\"white-space:pre;overflow-x:auto;line-height:normal;font-family:Menlo,'DejaVu Sans Mono',consolas,'Courier New',monospace\">┏━━━━━━━━━━━━━━━━━━━━━━━━━━━━━━━━━┳━━━━━━━━━━━━━━━━━━━━━━━━┳━━━━━━━━━━━━━━━┓\n",
       "┃<span style=\"font-weight: bold\"> Layer (type)                    </span>┃<span style=\"font-weight: bold\"> Output Shape           </span>┃<span style=\"font-weight: bold\">       Param # </span>┃\n",
       "┡━━━━━━━━━━━━━━━━━━━━━━━━━━━━━━━━━╇━━━━━━━━━━━━━━━━━━━━━━━━╇━━━━━━━━━━━━━━━┩\n",
       "│ conv2d_2 (<span style=\"color: #0087ff; text-decoration-color: #0087ff\">Conv2D</span>)               │ (<span style=\"color: #00d7ff; text-decoration-color: #00d7ff\">None</span>, <span style=\"color: #00af00; text-decoration-color: #00af00\">40</span>, <span style=\"color: #00af00; text-decoration-color: #00af00\">24</span>, <span style=\"color: #00af00; text-decoration-color: #00af00\">32</span>)     │           <span style=\"color: #00af00; text-decoration-color: #00af00\">320</span> │\n",
       "├─────────────────────────────────┼────────────────────────┼───────────────┤\n",
       "│ batch_normalization_2           │ (<span style=\"color: #00d7ff; text-decoration-color: #00d7ff\">None</span>, <span style=\"color: #00af00; text-decoration-color: #00af00\">40</span>, <span style=\"color: #00af00; text-decoration-color: #00af00\">24</span>, <span style=\"color: #00af00; text-decoration-color: #00af00\">32</span>)     │           <span style=\"color: #00af00; text-decoration-color: #00af00\">128</span> │\n",
       "│ (<span style=\"color: #0087ff; text-decoration-color: #0087ff\">BatchNormalization</span>)            │                        │               │\n",
       "├─────────────────────────────────┼────────────────────────┼───────────────┤\n",
       "│ max_pooling2d_2 (<span style=\"color: #0087ff; text-decoration-color: #0087ff\">MaxPooling2D</span>)  │ (<span style=\"color: #00d7ff; text-decoration-color: #00d7ff\">None</span>, <span style=\"color: #00af00; text-decoration-color: #00af00\">20</span>, <span style=\"color: #00af00; text-decoration-color: #00af00\">12</span>, <span style=\"color: #00af00; text-decoration-color: #00af00\">32</span>)     │             <span style=\"color: #00af00; text-decoration-color: #00af00\">0</span> │\n",
       "├─────────────────────────────────┼────────────────────────┼───────────────┤\n",
       "│ conv2d_3 (<span style=\"color: #0087ff; text-decoration-color: #0087ff\">Conv2D</span>)               │ (<span style=\"color: #00d7ff; text-decoration-color: #00d7ff\">None</span>, <span style=\"color: #00af00; text-decoration-color: #00af00\">20</span>, <span style=\"color: #00af00; text-decoration-color: #00af00\">12</span>, <span style=\"color: #00af00; text-decoration-color: #00af00\">64</span>)     │        <span style=\"color: #00af00; text-decoration-color: #00af00\">18,496</span> │\n",
       "├─────────────────────────────────┼────────────────────────┼───────────────┤\n",
       "│ batch_normalization_3           │ (<span style=\"color: #00d7ff; text-decoration-color: #00d7ff\">None</span>, <span style=\"color: #00af00; text-decoration-color: #00af00\">20</span>, <span style=\"color: #00af00; text-decoration-color: #00af00\">12</span>, <span style=\"color: #00af00; text-decoration-color: #00af00\">64</span>)     │           <span style=\"color: #00af00; text-decoration-color: #00af00\">256</span> │\n",
       "│ (<span style=\"color: #0087ff; text-decoration-color: #0087ff\">BatchNormalization</span>)            │                        │               │\n",
       "├─────────────────────────────────┼────────────────────────┼───────────────┤\n",
       "│ max_pooling2d_3 (<span style=\"color: #0087ff; text-decoration-color: #0087ff\">MaxPooling2D</span>)  │ (<span style=\"color: #00d7ff; text-decoration-color: #00d7ff\">None</span>, <span style=\"color: #00af00; text-decoration-color: #00af00\">10</span>, <span style=\"color: #00af00; text-decoration-color: #00af00\">6</span>, <span style=\"color: #00af00; text-decoration-color: #00af00\">64</span>)      │             <span style=\"color: #00af00; text-decoration-color: #00af00\">0</span> │\n",
       "├─────────────────────────────────┼────────────────────────┼───────────────┤\n",
       "│ conv2d_4 (<span style=\"color: #0087ff; text-decoration-color: #0087ff\">Conv2D</span>)               │ (<span style=\"color: #00d7ff; text-decoration-color: #00d7ff\">None</span>, <span style=\"color: #00af00; text-decoration-color: #00af00\">10</span>, <span style=\"color: #00af00; text-decoration-color: #00af00\">6</span>, <span style=\"color: #00af00; text-decoration-color: #00af00\">64</span>)      │        <span style=\"color: #00af00; text-decoration-color: #00af00\">36,928</span> │\n",
       "├─────────────────────────────────┼────────────────────────┼───────────────┤\n",
       "│ batch_normalization_4           │ (<span style=\"color: #00d7ff; text-decoration-color: #00d7ff\">None</span>, <span style=\"color: #00af00; text-decoration-color: #00af00\">10</span>, <span style=\"color: #00af00; text-decoration-color: #00af00\">6</span>, <span style=\"color: #00af00; text-decoration-color: #00af00\">64</span>)      │           <span style=\"color: #00af00; text-decoration-color: #00af00\">256</span> │\n",
       "│ (<span style=\"color: #0087ff; text-decoration-color: #0087ff\">BatchNormalization</span>)            │                        │               │\n",
       "├─────────────────────────────────┼────────────────────────┼───────────────┤\n",
       "│ max_pooling2d_4 (<span style=\"color: #0087ff; text-decoration-color: #0087ff\">MaxPooling2D</span>)  │ (<span style=\"color: #00d7ff; text-decoration-color: #00d7ff\">None</span>, <span style=\"color: #00af00; text-decoration-color: #00af00\">5</span>, <span style=\"color: #00af00; text-decoration-color: #00af00\">3</span>, <span style=\"color: #00af00; text-decoration-color: #00af00\">64</span>)       │             <span style=\"color: #00af00; text-decoration-color: #00af00\">0</span> │\n",
       "├─────────────────────────────────┼────────────────────────┼───────────────┤\n",
       "│ flatten_1 (<span style=\"color: #0087ff; text-decoration-color: #0087ff\">Flatten</span>)             │ (<span style=\"color: #00d7ff; text-decoration-color: #00d7ff\">None</span>, <span style=\"color: #00af00; text-decoration-color: #00af00\">960</span>)            │             <span style=\"color: #00af00; text-decoration-color: #00af00\">0</span> │\n",
       "├─────────────────────────────────┼────────────────────────┼───────────────┤\n",
       "│ dense_3 (<span style=\"color: #0087ff; text-decoration-color: #0087ff\">Dense</span>)                 │ (<span style=\"color: #00d7ff; text-decoration-color: #00d7ff\">None</span>, <span style=\"color: #00af00; text-decoration-color: #00af00\">128</span>)            │       <span style=\"color: #00af00; text-decoration-color: #00af00\">123,008</span> │\n",
       "├─────────────────────────────────┼────────────────────────┼───────────────┤\n",
       "│ dropout_2 (<span style=\"color: #0087ff; text-decoration-color: #0087ff\">Dropout</span>)             │ (<span style=\"color: #00d7ff; text-decoration-color: #00d7ff\">None</span>, <span style=\"color: #00af00; text-decoration-color: #00af00\">128</span>)            │             <span style=\"color: #00af00; text-decoration-color: #00af00\">0</span> │\n",
       "├─────────────────────────────────┼────────────────────────┼───────────────┤\n",
       "│ dense_4 (<span style=\"color: #0087ff; text-decoration-color: #0087ff\">Dense</span>)                 │ (<span style=\"color: #00d7ff; text-decoration-color: #00d7ff\">None</span>, <span style=\"color: #00af00; text-decoration-color: #00af00\">64</span>)             │         <span style=\"color: #00af00; text-decoration-color: #00af00\">8,256</span> │\n",
       "├─────────────────────────────────┼────────────────────────┼───────────────┤\n",
       "│ dropout_3 (<span style=\"color: #0087ff; text-decoration-color: #0087ff\">Dropout</span>)             │ (<span style=\"color: #00d7ff; text-decoration-color: #00d7ff\">None</span>, <span style=\"color: #00af00; text-decoration-color: #00af00\">64</span>)             │             <span style=\"color: #00af00; text-decoration-color: #00af00\">0</span> │\n",
       "├─────────────────────────────────┼────────────────────────┼───────────────┤\n",
       "│ dense_5 (<span style=\"color: #0087ff; text-decoration-color: #0087ff\">Dense</span>)                 │ (<span style=\"color: #00d7ff; text-decoration-color: #00d7ff\">None</span>, <span style=\"color: #00af00; text-decoration-color: #00af00\">10</span>)             │           <span style=\"color: #00af00; text-decoration-color: #00af00\">650</span> │\n",
       "└─────────────────────────────────┴────────────────────────┴───────────────┘\n",
       "</pre>\n"
      ],
      "text/plain": [
       "┏━━━━━━━━━━━━━━━━━━━━━━━━━━━━━━━━━┳━━━━━━━━━━━━━━━━━━━━━━━━┳━━━━━━━━━━━━━━━┓\n",
       "┃\u001b[1m \u001b[0m\u001b[1mLayer (type)                   \u001b[0m\u001b[1m \u001b[0m┃\u001b[1m \u001b[0m\u001b[1mOutput Shape          \u001b[0m\u001b[1m \u001b[0m┃\u001b[1m \u001b[0m\u001b[1m      Param #\u001b[0m\u001b[1m \u001b[0m┃\n",
       "┡━━━━━━━━━━━━━━━━━━━━━━━━━━━━━━━━━╇━━━━━━━━━━━━━━━━━━━━━━━━╇━━━━━━━━━━━━━━━┩\n",
       "│ conv2d_2 (\u001b[38;5;33mConv2D\u001b[0m)               │ (\u001b[38;5;45mNone\u001b[0m, \u001b[38;5;34m40\u001b[0m, \u001b[38;5;34m24\u001b[0m, \u001b[38;5;34m32\u001b[0m)     │           \u001b[38;5;34m320\u001b[0m │\n",
       "├─────────────────────────────────┼────────────────────────┼───────────────┤\n",
       "│ batch_normalization_2           │ (\u001b[38;5;45mNone\u001b[0m, \u001b[38;5;34m40\u001b[0m, \u001b[38;5;34m24\u001b[0m, \u001b[38;5;34m32\u001b[0m)     │           \u001b[38;5;34m128\u001b[0m │\n",
       "│ (\u001b[38;5;33mBatchNormalization\u001b[0m)            │                        │               │\n",
       "├─────────────────────────────────┼────────────────────────┼───────────────┤\n",
       "│ max_pooling2d_2 (\u001b[38;5;33mMaxPooling2D\u001b[0m)  │ (\u001b[38;5;45mNone\u001b[0m, \u001b[38;5;34m20\u001b[0m, \u001b[38;5;34m12\u001b[0m, \u001b[38;5;34m32\u001b[0m)     │             \u001b[38;5;34m0\u001b[0m │\n",
       "├─────────────────────────────────┼────────────────────────┼───────────────┤\n",
       "│ conv2d_3 (\u001b[38;5;33mConv2D\u001b[0m)               │ (\u001b[38;5;45mNone\u001b[0m, \u001b[38;5;34m20\u001b[0m, \u001b[38;5;34m12\u001b[0m, \u001b[38;5;34m64\u001b[0m)     │        \u001b[38;5;34m18,496\u001b[0m │\n",
       "├─────────────────────────────────┼────────────────────────┼───────────────┤\n",
       "│ batch_normalization_3           │ (\u001b[38;5;45mNone\u001b[0m, \u001b[38;5;34m20\u001b[0m, \u001b[38;5;34m12\u001b[0m, \u001b[38;5;34m64\u001b[0m)     │           \u001b[38;5;34m256\u001b[0m │\n",
       "│ (\u001b[38;5;33mBatchNormalization\u001b[0m)            │                        │               │\n",
       "├─────────────────────────────────┼────────────────────────┼───────────────┤\n",
       "│ max_pooling2d_3 (\u001b[38;5;33mMaxPooling2D\u001b[0m)  │ (\u001b[38;5;45mNone\u001b[0m, \u001b[38;5;34m10\u001b[0m, \u001b[38;5;34m6\u001b[0m, \u001b[38;5;34m64\u001b[0m)      │             \u001b[38;5;34m0\u001b[0m │\n",
       "├─────────────────────────────────┼────────────────────────┼───────────────┤\n",
       "│ conv2d_4 (\u001b[38;5;33mConv2D\u001b[0m)               │ (\u001b[38;5;45mNone\u001b[0m, \u001b[38;5;34m10\u001b[0m, \u001b[38;5;34m6\u001b[0m, \u001b[38;5;34m64\u001b[0m)      │        \u001b[38;5;34m36,928\u001b[0m │\n",
       "├─────────────────────────────────┼────────────────────────┼───────────────┤\n",
       "│ batch_normalization_4           │ (\u001b[38;5;45mNone\u001b[0m, \u001b[38;5;34m10\u001b[0m, \u001b[38;5;34m6\u001b[0m, \u001b[38;5;34m64\u001b[0m)      │           \u001b[38;5;34m256\u001b[0m │\n",
       "│ (\u001b[38;5;33mBatchNormalization\u001b[0m)            │                        │               │\n",
       "├─────────────────────────────────┼────────────────────────┼───────────────┤\n",
       "│ max_pooling2d_4 (\u001b[38;5;33mMaxPooling2D\u001b[0m)  │ (\u001b[38;5;45mNone\u001b[0m, \u001b[38;5;34m5\u001b[0m, \u001b[38;5;34m3\u001b[0m, \u001b[38;5;34m64\u001b[0m)       │             \u001b[38;5;34m0\u001b[0m │\n",
       "├─────────────────────────────────┼────────────────────────┼───────────────┤\n",
       "│ flatten_1 (\u001b[38;5;33mFlatten\u001b[0m)             │ (\u001b[38;5;45mNone\u001b[0m, \u001b[38;5;34m960\u001b[0m)            │             \u001b[38;5;34m0\u001b[0m │\n",
       "├─────────────────────────────────┼────────────────────────┼───────────────┤\n",
       "│ dense_3 (\u001b[38;5;33mDense\u001b[0m)                 │ (\u001b[38;5;45mNone\u001b[0m, \u001b[38;5;34m128\u001b[0m)            │       \u001b[38;5;34m123,008\u001b[0m │\n",
       "├─────────────────────────────────┼────────────────────────┼───────────────┤\n",
       "│ dropout_2 (\u001b[38;5;33mDropout\u001b[0m)             │ (\u001b[38;5;45mNone\u001b[0m, \u001b[38;5;34m128\u001b[0m)            │             \u001b[38;5;34m0\u001b[0m │\n",
       "├─────────────────────────────────┼────────────────────────┼───────────────┤\n",
       "│ dense_4 (\u001b[38;5;33mDense\u001b[0m)                 │ (\u001b[38;5;45mNone\u001b[0m, \u001b[38;5;34m64\u001b[0m)             │         \u001b[38;5;34m8,256\u001b[0m │\n",
       "├─────────────────────────────────┼────────────────────────┼───────────────┤\n",
       "│ dropout_3 (\u001b[38;5;33mDropout\u001b[0m)             │ (\u001b[38;5;45mNone\u001b[0m, \u001b[38;5;34m64\u001b[0m)             │             \u001b[38;5;34m0\u001b[0m │\n",
       "├─────────────────────────────────┼────────────────────────┼───────────────┤\n",
       "│ dense_5 (\u001b[38;5;33mDense\u001b[0m)                 │ (\u001b[38;5;45mNone\u001b[0m, \u001b[38;5;34m10\u001b[0m)             │           \u001b[38;5;34m650\u001b[0m │\n",
       "└─────────────────────────────────┴────────────────────────┴───────────────┘\n"
      ]
     },
     "metadata": {},
     "output_type": "display_data"
    },
    {
     "data": {
      "text/html": [
       "<pre style=\"white-space:pre;overflow-x:auto;line-height:normal;font-family:Menlo,'DejaVu Sans Mono',consolas,'Courier New',monospace\"><span style=\"font-weight: bold\"> Total params: </span><span style=\"color: #00af00; text-decoration-color: #00af00\">188,298</span> (735.54 KB)\n",
       "</pre>\n"
      ],
      "text/plain": [
       "\u001b[1m Total params: \u001b[0m\u001b[38;5;34m188,298\u001b[0m (735.54 KB)\n"
      ]
     },
     "metadata": {},
     "output_type": "display_data"
    },
    {
     "data": {
      "text/html": [
       "<pre style=\"white-space:pre;overflow-x:auto;line-height:normal;font-family:Menlo,'DejaVu Sans Mono',consolas,'Courier New',monospace\"><span style=\"font-weight: bold\"> Trainable params: </span><span style=\"color: #00af00; text-decoration-color: #00af00\">187,978</span> (734.29 KB)\n",
       "</pre>\n"
      ],
      "text/plain": [
       "\u001b[1m Trainable params: \u001b[0m\u001b[38;5;34m187,978\u001b[0m (734.29 KB)\n"
      ]
     },
     "metadata": {},
     "output_type": "display_data"
    },
    {
     "data": {
      "text/html": [
       "<pre style=\"white-space:pre;overflow-x:auto;line-height:normal;font-family:Menlo,'DejaVu Sans Mono',consolas,'Courier New',monospace\"><span style=\"font-weight: bold\"> Non-trainable params: </span><span style=\"color: #00af00; text-decoration-color: #00af00\">320</span> (1.25 KB)\n",
       "</pre>\n"
      ],
      "text/plain": [
       "\u001b[1m Non-trainable params: \u001b[0m\u001b[38;5;34m320\u001b[0m (1.25 KB)\n"
      ]
     },
     "metadata": {},
     "output_type": "display_data"
    }
   ],
   "source": [
    "model.summary()"
   ]
  },
  {
   "cell_type": "code",
   "execution_count": 55,
   "id": "94fcba35-210f-4382-9cfd-8e7caf072fca",
   "metadata": {},
   "outputs": [
    {
     "name": "stdout",
     "output_type": "stream",
     "text": [
      "Epoch 1/50\n",
      "1436/1436 - 34s - 23ms/step - accuracy: 0.3957 - loss: 1.6636 - val_accuracy: 0.3977 - val_loss: 2.9863\n",
      "Epoch 2/50\n",
      "1436/1436 - 32s - 23ms/step - accuracy: 0.4922 - loss: 1.3882 - val_accuracy: 0.5621 - val_loss: 1.2096\n",
      "Epoch 3/50\n",
      "1436/1436 - 33s - 23ms/step - accuracy: 0.5358 - loss: 1.2753 - val_accuracy: 0.5571 - val_loss: 1.2468\n",
      "Epoch 4/50\n",
      "1436/1436 - 37s - 26ms/step - accuracy: 0.5613 - loss: 1.2055 - val_accuracy: 0.5890 - val_loss: 1.1087\n",
      "Epoch 5/50\n",
      "1436/1436 - 36s - 25ms/step - accuracy: 0.5818 - loss: 1.1464 - val_accuracy: 0.6251 - val_loss: 1.0247\n",
      "Epoch 6/50\n",
      "1436/1436 - 36s - 25ms/step - accuracy: 0.6013 - loss: 1.1017 - val_accuracy: 0.6084 - val_loss: 1.0371\n",
      "Epoch 7/50\n",
      "1436/1436 - 37s - 26ms/step - accuracy: 0.6166 - loss: 1.0611 - val_accuracy: 0.6473 - val_loss: 0.9694\n",
      "Epoch 8/50\n",
      "1436/1436 - 38s - 26ms/step - accuracy: 0.6231 - loss: 1.0392 - val_accuracy: 0.6061 - val_loss: 1.1160\n",
      "Epoch 9/50\n",
      "1436/1436 - 37s - 26ms/step - accuracy: 0.6388 - loss: 0.9939 - val_accuracy: 0.6283 - val_loss: 0.9387\n",
      "Epoch 10/50\n",
      "1436/1436 - 36s - 25ms/step - accuracy: 0.6553 - loss: 0.9603 - val_accuracy: 0.6575 - val_loss: 0.9297\n",
      "Epoch 11/50\n",
      "1436/1436 - 34s - 24ms/step - accuracy: 0.6631 - loss: 0.9349 - val_accuracy: 0.6813 - val_loss: 0.8834\n",
      "Epoch 12/50\n",
      "1436/1436 - 33s - 23ms/step - accuracy: 0.6757 - loss: 0.9006 - val_accuracy: 0.6803 - val_loss: 0.8825\n",
      "Epoch 13/50\n",
      "1436/1436 - 33s - 23ms/step - accuracy: 0.6809 - loss: 0.8849 - val_accuracy: 0.7038 - val_loss: 0.8185\n",
      "Epoch 14/50\n",
      "1436/1436 - 34s - 23ms/step - accuracy: 0.6837 - loss: 0.8734 - val_accuracy: 0.7058 - val_loss: 0.7926\n",
      "Epoch 15/50\n",
      "1436/1436 - 34s - 24ms/step - accuracy: 0.6968 - loss: 0.8389 - val_accuracy: 0.7209 - val_loss: 0.7551\n",
      "Epoch 16/50\n",
      "1436/1436 - 34s - 24ms/step - accuracy: 0.7069 - loss: 0.8105 - val_accuracy: 0.7351 - val_loss: 0.7388\n",
      "Epoch 17/50\n",
      "1436/1436 - 35s - 24ms/step - accuracy: 0.7110 - loss: 0.7982 - val_accuracy: 0.7386 - val_loss: 0.7233\n",
      "Epoch 18/50\n",
      "1436/1436 - 35s - 24ms/step - accuracy: 0.7170 - loss: 0.7814 - val_accuracy: 0.7342 - val_loss: 0.7491\n",
      "Epoch 19/50\n",
      "1436/1436 - 34s - 24ms/step - accuracy: 0.7225 - loss: 0.7668 - val_accuracy: 0.7328 - val_loss: 0.7342\n",
      "Epoch 20/50\n",
      "1436/1436 - 34s - 24ms/step - accuracy: 0.7301 - loss: 0.7447 - val_accuracy: 0.7157 - val_loss: 0.7991\n",
      "Epoch 21/50\n",
      "1436/1436 - 35s - 24ms/step - accuracy: 0.7335 - loss: 0.7388 - val_accuracy: 0.7632 - val_loss: 0.6699\n",
      "Epoch 22/50\n",
      "1436/1436 - 35s - 24ms/step - accuracy: 0.7439 - loss: 0.7138 - val_accuracy: 0.7303 - val_loss: 0.7728\n",
      "Epoch 23/50\n",
      "1436/1436 - 36s - 25ms/step - accuracy: 0.7441 - loss: 0.7149 - val_accuracy: 0.7651 - val_loss: 0.6644\n",
      "Epoch 24/50\n",
      "1436/1436 - 36s - 25ms/step - accuracy: 0.7533 - loss: 0.6895 - val_accuracy: 0.7489 - val_loss: 0.6887\n",
      "Epoch 25/50\n",
      "1436/1436 - 35s - 24ms/step - accuracy: 0.7579 - loss: 0.6803 - val_accuracy: 0.7759 - val_loss: 0.6334\n",
      "Epoch 26/50\n",
      "1436/1436 - 35s - 24ms/step - accuracy: 0.7642 - loss: 0.6617 - val_accuracy: 0.7590 - val_loss: 0.6938\n",
      "Epoch 27/50\n",
      "1436/1436 - 36s - 25ms/step - accuracy: 0.7679 - loss: 0.6480 - val_accuracy: 0.7599 - val_loss: 0.6839\n",
      "Epoch 28/50\n",
      "1436/1436 - 38s - 27ms/step - accuracy: 0.7691 - loss: 0.6445 - val_accuracy: 0.7371 - val_loss: 0.7818\n",
      "Epoch 29/50\n",
      "1436/1436 - 36s - 25ms/step - accuracy: 0.7768 - loss: 0.6284 - val_accuracy: 0.7623 - val_loss: 0.6723\n",
      "Epoch 30/50\n",
      "1436/1436 - 35s - 24ms/step - accuracy: 0.7791 - loss: 0.6172 - val_accuracy: 0.7881 - val_loss: 0.6259\n",
      "Epoch 31/50\n",
      "1436/1436 - 36s - 25ms/step - accuracy: 0.7815 - loss: 0.6060 - val_accuracy: 0.7835 - val_loss: 0.6332\n",
      "Epoch 32/50\n",
      "1436/1436 - 35s - 25ms/step - accuracy: 0.7861 - loss: 0.6045 - val_accuracy: 0.7877 - val_loss: 0.6126\n",
      "Epoch 33/50\n",
      "1436/1436 - 35s - 24ms/step - accuracy: 0.7902 - loss: 0.5862 - val_accuracy: 0.7651 - val_loss: 0.6858\n",
      "Epoch 34/50\n",
      "1436/1436 - 38s - 26ms/step - accuracy: 0.7885 - loss: 0.5843 - val_accuracy: 0.7926 - val_loss: 0.6235\n",
      "Epoch 35/50\n",
      "1436/1436 - 37s - 26ms/step - accuracy: 0.7973 - loss: 0.5697 - val_accuracy: 0.7973 - val_loss: 0.6331\n",
      "Epoch 36/50\n",
      "1436/1436 - 37s - 26ms/step - accuracy: 0.7984 - loss: 0.5687 - val_accuracy: 0.8066 - val_loss: 0.5903\n",
      "Epoch 37/50\n",
      "1436/1436 - 37s - 26ms/step - accuracy: 0.8012 - loss: 0.5553 - val_accuracy: 0.8126 - val_loss: 0.5757\n",
      "Epoch 38/50\n",
      "1436/1436 - 38s - 26ms/step - accuracy: 0.8039 - loss: 0.5498 - val_accuracy: 0.7964 - val_loss: 0.6301\n",
      "Epoch 39/50\n",
      "1436/1436 - 37s - 26ms/step - accuracy: 0.8044 - loss: 0.5454 - val_accuracy: 0.8062 - val_loss: 0.6156\n",
      "Epoch 40/50\n",
      "1436/1436 - 37s - 26ms/step - accuracy: 0.8120 - loss: 0.5275 - val_accuracy: 0.8084 - val_loss: 0.5933\n",
      "Epoch 41/50\n",
      "1436/1436 - 37s - 26ms/step - accuracy: 0.8157 - loss: 0.5174 - val_accuracy: 0.7713 - val_loss: 0.7210\n",
      "Epoch 42/50\n",
      "1436/1436 - 36s - 25ms/step - accuracy: 0.8132 - loss: 0.5276 - val_accuracy: 0.8088 - val_loss: 0.6092\n",
      "Epoch 43/50\n",
      "1436/1436 - 35s - 24ms/step - accuracy: 0.8144 - loss: 0.5171 - val_accuracy: 0.7921 - val_loss: 0.6752\n",
      "Epoch 44/50\n",
      "1436/1436 - 37s - 25ms/step - accuracy: 0.8198 - loss: 0.5034 - val_accuracy: 0.7796 - val_loss: 0.7192\n",
      "Epoch 45/50\n",
      "1436/1436 - 36s - 25ms/step - accuracy: 0.8221 - loss: 0.5082 - val_accuracy: 0.8161 - val_loss: 0.5887\n",
      "Epoch 46/50\n",
      "1436/1436 - 35s - 25ms/step - accuracy: 0.8244 - loss: 0.4933 - val_accuracy: 0.8208 - val_loss: 0.5874\n",
      "Epoch 47/50\n",
      "1436/1436 - 35s - 24ms/step - accuracy: 0.8284 - loss: 0.4825 - val_accuracy: 0.8093 - val_loss: 0.6522\n",
      "Epoch 48/50\n",
      "1436/1436 - 35s - 24ms/step - accuracy: 0.8266 - loss: 0.4819 - val_accuracy: 0.8269 - val_loss: 0.5892\n",
      "Epoch 49/50\n",
      "1436/1436 - 36s - 25ms/step - accuracy: 0.8316 - loss: 0.4731 - val_accuracy: 0.8182 - val_loss: 0.6026\n",
      "Epoch 50/50\n",
      "1436/1436 - 36s - 25ms/step - accuracy: 0.8329 - loss: 0.4695 - val_accuracy: 0.8069 - val_loss: 0.6388\n"
     ]
    }
   ],
   "source": [
    "early_stopping = tf.keras.callbacks.EarlyStopping(monitor='val_loss', patience=3, restore_best_weights=True)\n",
    "\n",
    "# Fit the model\n",
    "history = model.fit(\n",
    "    x=X_train,\n",
    "    y=y_train,\n",
    "    batch_size=32,\n",
    "    epochs=50,\n",
    "    verbose=2,\n",
    "    # callbacks=[early_stopping],  # Include the callback in a list\n",
    "    validation_data=(X_val, y_val),\n",
    "    validation_freq=1\n",
    ")"
   ]
  },
  {
   "cell_type": "code",
   "execution_count": 56,
   "id": "b80a63a0-492f-4a39-b0b5-843e9c09fed8",
   "metadata": {},
   "outputs": [
    {
     "name": "stdout",
     "output_type": "stream",
     "text": [
      "\u001b[1m479/479\u001b[0m \u001b[32m━━━━━━━━━━━━━━━━━━━━\u001b[0m\u001b[37m\u001b[0m \u001b[1m3s\u001b[0m 7ms/step - accuracy: 0.8044 - loss: 0.6620\n",
      "Test Accuracy: 0.81\n"
     ]
    }
   ],
   "source": [
    "test_loss, test_accuracy = model.evaluate(X_test, y_test)\n",
    "print(f'Test Accuracy: {test_accuracy:.2f}')"
   ]
  },
  {
   "cell_type": "code",
   "execution_count": 57,
   "id": "3e25690d-b88f-44ab-b41d-682e548f524e",
   "metadata": {},
   "outputs": [
    {
     "name": "stdout",
     "output_type": "stream",
     "text": [
      "\u001b[1m479/479\u001b[0m \u001b[32m━━━━━━━━━━━━━━━━━━━━\u001b[0m\u001b[37m\u001b[0m \u001b[1m3s\u001b[0m 7ms/step\n"
     ]
    }
   ],
   "source": [
    "y_pred = model.predict(X_test)"
   ]
  },
  {
   "cell_type": "code",
   "execution_count": 58,
   "id": "9ec11be6-44bf-45c5-adeb-ab0640b9c59d",
   "metadata": {},
   "outputs": [],
   "source": [
    "y_pred = np.argmax(y_pred, axis = 1)"
   ]
  },
  {
   "cell_type": "code",
   "execution_count": 59,
   "id": "3f7c90d0-1dab-4af9-8a68-51ac9b843938",
   "metadata": {},
   "outputs": [
    {
     "data": {
      "text/plain": [
       "array([2, 0, 5, ..., 7, 3, 9])"
      ]
     },
     "execution_count": 59,
     "metadata": {},
     "output_type": "execute_result"
    }
   ],
   "source": [
    "y_pred"
   ]
  },
  {
   "cell_type": "code",
   "execution_count": 60,
   "id": "fe63a3aa-32c3-48d9-b0d3-8b0bda614fe3",
   "metadata": {},
   "outputs": [
    {
     "name": "stdout",
     "output_type": "stream",
     "text": [
      "Classification Report:\n",
      "                precision  recall  f1-score\n",
      "Cell                 0.71    0.83      0.76\n",
      "Vegetation           0.62    0.69      0.66\n",
      "Diode                0.91    0.64      0.75\n",
      "No-Anomaly           0.89    0.95      0.92\n",
      "Cell-Multi           0.96    0.38      0.55\n",
      "Shadowing            1.00    1.00      1.00\n",
      "Cracking             0.83    0.83      0.83\n",
      "Offline-Module       0.82    0.83      0.83\n",
      "Soiling              0.76    0.50      0.61\n",
      "Diode-Multi          0.80    0.74      0.77\n",
      "accuracy             0.81    0.81      0.81\n",
      "macro avg            0.83    0.74      0.77\n",
      "weighted avg         0.82    0.81      0.81\n"
     ]
    },
    {
     "ename": "NameError",
     "evalue": "name 'sns' is not defined",
     "output_type": "error",
     "traceback": [
      "\u001b[0;31m---------------------------------------------------------------------------\u001b[0m",
      "\u001b[0;31mNameError\u001b[0m                                 Traceback (most recent call last)",
      "Cell \u001b[0;32mIn[60], line 22\u001b[0m\n\u001b[1;32m     20\u001b[0m \u001b[38;5;66;03m# Plot confusion matrix\u001b[39;00m\n\u001b[1;32m     21\u001b[0m plt\u001b[38;5;241m.\u001b[39mfigure(figsize\u001b[38;5;241m=\u001b[39m(\u001b[38;5;241m12\u001b[39m, \u001b[38;5;241m10\u001b[39m))\n\u001b[0;32m---> 22\u001b[0m \u001b[43msns\u001b[49m\u001b[38;5;241m.\u001b[39mheatmap(conf_matrix, annot\u001b[38;5;241m=\u001b[39m\u001b[38;5;28;01mTrue\u001b[39;00m, fmt\u001b[38;5;241m=\u001b[39m\u001b[38;5;124m'\u001b[39m\u001b[38;5;124md\u001b[39m\u001b[38;5;124m'\u001b[39m, cmap\u001b[38;5;241m=\u001b[39m\u001b[38;5;124m'\u001b[39m\u001b[38;5;124mBlues\u001b[39m\u001b[38;5;124m'\u001b[39m, xticklabels\u001b[38;5;241m=\u001b[39mclasses[:\u001b[38;5;28mlen\u001b[39m(\u001b[38;5;28mset\u001b[39m(y_test))], yticklabels\u001b[38;5;241m=\u001b[39mclasses[:\u001b[38;5;28mlen\u001b[39m(\u001b[38;5;28mset\u001b[39m(y_test))])\n\u001b[1;32m     23\u001b[0m plt\u001b[38;5;241m.\u001b[39mxlabel(\u001b[38;5;124m'\u001b[39m\u001b[38;5;124mPredicted Label\u001b[39m\u001b[38;5;124m'\u001b[39m)\n\u001b[1;32m     24\u001b[0m plt\u001b[38;5;241m.\u001b[39mylabel(\u001b[38;5;124m'\u001b[39m\u001b[38;5;124mTrue Label\u001b[39m\u001b[38;5;124m'\u001b[39m)\n",
      "\u001b[0;31mNameError\u001b[0m: name 'sns' is not defined"
     ]
    },
    {
     "data": {
      "text/plain": [
       "<Figure size 1200x1000 with 0 Axes>"
      ]
     },
     "metadata": {},
     "output_type": "display_data"
    }
   ],
   "source": [
    "classes = ['Cell', 'Vegetation', 'Diode', 'No-Anomaly', 'Cell-Multi', 'Shadowing', 'Cracking', 'Offline-Module', 'Soiling', 'Diode-Multi']\n",
    "\n",
    "# Ensure that the number of classes matches the length of the classes list\n",
    "assert len(set(y_test)) <= len(classes), \"Number of unique labels in y_true must be less than or equal to the length of the classes list.\"\n",
    "assert len(set(y_pred)) <= len(classes), \"Number of unique labels in y_pred must be less than or equal to the length of the classes list.\"\n",
    "\n",
    "# Calculate precision, recall, F1 score\n",
    "report = classification_report(y_test, y_pred, target_names=classes[:len(set(y_test))], output_dict=True)\n",
    "\n",
    "# Convert the classification report to a pandas DataFrame\n",
    "report_df = pd.DataFrame(report).transpose()\n",
    "\n",
    "# Print the classification report as a table\n",
    "print(\"Classification Report:\")\n",
    "print(report_df[['precision', 'recall', 'f1-score']].round(2))\n",
    "\n",
    "# Calculate confusion matrix\n",
    "conf_matrix = confusion_matrix(y_test, y_pred)\n",
    "\n",
    "# Plot confusion matrix\n",
    "plt.figure(figsize=(12, 10))\n",
    "sns.heatmap(conf_matrix, annot=True, fmt='d', cmap='Blues', xticklabels=classes[:len(set(y_test))], yticklabels=classes[:len(set(y_test))])\n",
    "plt.xlabel('Predicted Label')\n",
    "plt.ylabel('True Label')\n",
    "plt.title('Confusion Matrix')\n",
    "plt.show()"
   ]
  },
  {
   "cell_type": "code",
   "execution_count": null,
   "id": "5fcf595f-1c9f-49e5-80e6-266e119bded6",
   "metadata": {},
   "outputs": [],
   "source": []
  }
 ],
 "metadata": {
  "kernelspec": {
   "display_name": "Python 3 (ipykernel)",
   "language": "python",
   "name": "python3"
  },
  "language_info": {
   "codemirror_mode": {
    "name": "ipython",
    "version": 3
   },
   "file_extension": ".py",
   "mimetype": "text/x-python",
   "name": "python",
   "nbconvert_exporter": "python",
   "pygments_lexer": "ipython3",
   "version": "3.12.4"
  }
 },
 "nbformat": 4,
 "nbformat_minor": 5
}
